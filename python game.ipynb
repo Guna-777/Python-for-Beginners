{
 "cells": [
  {
   "cell_type": "code",
   "execution_count": null,
   "metadata": {},
   "outputs": [],
   "source": [
    "\n",
    "#random module is imported here for getting random options for computer\n",
    "import random\n",
    "\n",
    "options=['rock','paper','scissors']\n",
    "\n",
    "def random_generator():\n",
    "    return random.choice(options)\n",
    "\n",
    "user_choice=input('Enter your choice (Rock,Paper,Scissors): ')\n",
    "user=user_choice.lower()\n",
    "computer= random_generator()\n",
    "\n",
    "if user == 'rock' or 'paper' or 'scissors':\n",
    "    print(\"The computer has drawn %s and you have drawn %s \" % (computer,user))\n",
    "if user==options[0]:\n",
    "    if computer==options[2]:\n",
    "        print('\\nResult: You WIN')\n",
    "    \n",
    "    elif computer==user:\n",
    "        print('\\nGame is DRAW')\n",
    "    else:\n",
    "        print('Result:User lose')\n",
    "\n",
    "\n",
    "\n",
    "elif user==options[1]:\n",
    "    if computer==options[0]:\n",
    "        print('\\Result:User Win')\n",
    "\n",
    "    elif computer==user:\n",
    "        print('\\nGame is DRAW !')\n",
    "    \n",
    "    else:\n",
    "        print('\\nResult:User lose')\n",
    "\n",
    "\n",
    "\n",
    "elif user==options[2]:\n",
    "    if computer==options[1] :\n",
    "        print('\\nResult:User Win')\n",
    "\n",
    "    elif computer==user:\n",
    "        print('\\nGame is DRAW!')\n",
    "    \n",
    "    else:\n",
    "        print('\\nResult:User LOSE')\n",
    "\n",
    "else:\n",
    "    print('\\nWRONG CHOICE')"
   ]
  },
  {
   "cell_type": "code",
   "execution_count": null,
   "metadata": {},
   "outputs": [],
   "source": []
  },
  {
   "cell_type": "code",
   "execution_count": null,
   "metadata": {},
   "outputs": [],
   "source": []
  }
 ],
 "metadata": {
  "kernelspec": {
   "display_name": "Python 3",
   "language": "python",
   "name": "python3"
  },
  "language_info": {
   "codemirror_mode": {
    "name": "ipython",
    "version": 3
   },
   "file_extension": ".py",
   "mimetype": "text/x-python",
   "name": "python",
   "nbconvert_exporter": "python",
   "pygments_lexer": "ipython3",
   "version": "3.7.3"
  }
 },
 "nbformat": 4,
 "nbformat_minor": 4
}
